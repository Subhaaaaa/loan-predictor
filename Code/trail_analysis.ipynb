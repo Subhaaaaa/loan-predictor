{
 "cells": [
  {
   "cell_type": "markdown",
   "metadata": {},
   "source": [
    "### Importing necessary libraries, loading the dataset and running initial checks"
   ]
  },
  {
   "cell_type": "code",
   "execution_count": 2,
   "metadata": {},
   "outputs": [],
   "source": [
    "import pandas as pd\n",
    "from sklearn.pipeline import Pipeline, FeatureUnion\n",
    "from sklearn.compose import ColumnTransformer\n",
    "from sklearn.preprocessing import OneHotEncoder, OrdinalEncoder, LabelEncoder, FunctionTransformer\n",
    "import matplotlib.pyplot as plt\n",
    "import seaborn as sns\n",
    "\n",
    "import numpy as np\n",
    "\n",
    "from sklearn.impute import SimpleImputer\n",
    "from sklearn.preprocessing import StandardScaler\n",
    "from sklearn.model_selection import train_test_split\n",
    "from sklearn.ensemble import RandomForestClassifier\n",
    "from sklearn.metrics import accuracy_score"
   ]
  },
  {
   "cell_type": "code",
   "execution_count": 5,
   "metadata": {},
   "outputs": [
    {
     "data": {
      "text/html": [
       "<div>\n",
       "<style scoped>\n",
       "    .dataframe tbody tr th:only-of-type {\n",
       "        vertical-align: middle;\n",
       "    }\n",
       "\n",
       "    .dataframe tbody tr th {\n",
       "        vertical-align: top;\n",
       "    }\n",
       "\n",
       "    .dataframe thead th {\n",
       "        text-align: right;\n",
       "    }\n",
       "</style>\n",
       "<table border=\"1\" class=\"dataframe\">\n",
       "  <thead>\n",
       "    <tr style=\"text-align: right;\">\n",
       "      <th></th>\n",
       "      <th>Loan_ID</th>\n",
       "      <th>Gender</th>\n",
       "      <th>Married</th>\n",
       "      <th>Dependents</th>\n",
       "      <th>Education</th>\n",
       "      <th>Self_Employed</th>\n",
       "      <th>ApplicantIncome</th>\n",
       "      <th>CoapplicantIncome</th>\n",
       "      <th>LoanAmount</th>\n",
       "      <th>Loan_Amount_Term</th>\n",
       "      <th>Credit_History</th>\n",
       "      <th>Property_Area</th>\n",
       "      <th>Loan_Status</th>\n",
       "    </tr>\n",
       "  </thead>\n",
       "  <tbody>\n",
       "    <tr>\n",
       "      <th>0</th>\n",
       "      <td>LP001003</td>\n",
       "      <td>Male</td>\n",
       "      <td>Yes</td>\n",
       "      <td>1</td>\n",
       "      <td>Graduate</td>\n",
       "      <td>No</td>\n",
       "      <td>4583</td>\n",
       "      <td>1508.0</td>\n",
       "      <td>128.0</td>\n",
       "      <td>360.0</td>\n",
       "      <td>1.0</td>\n",
       "      <td>Rural</td>\n",
       "      <td>N</td>\n",
       "    </tr>\n",
       "    <tr>\n",
       "      <th>1</th>\n",
       "      <td>LP001005</td>\n",
       "      <td>Male</td>\n",
       "      <td>Yes</td>\n",
       "      <td>0</td>\n",
       "      <td>Graduate</td>\n",
       "      <td>Yes</td>\n",
       "      <td>3000</td>\n",
       "      <td>0.0</td>\n",
       "      <td>66.0</td>\n",
       "      <td>360.0</td>\n",
       "      <td>1.0</td>\n",
       "      <td>Urban</td>\n",
       "      <td>Y</td>\n",
       "    </tr>\n",
       "    <tr>\n",
       "      <th>2</th>\n",
       "      <td>LP001006</td>\n",
       "      <td>Male</td>\n",
       "      <td>Yes</td>\n",
       "      <td>0</td>\n",
       "      <td>Not Graduate</td>\n",
       "      <td>No</td>\n",
       "      <td>2583</td>\n",
       "      <td>2358.0</td>\n",
       "      <td>120.0</td>\n",
       "      <td>360.0</td>\n",
       "      <td>1.0</td>\n",
       "      <td>Urban</td>\n",
       "      <td>Y</td>\n",
       "    </tr>\n",
       "    <tr>\n",
       "      <th>3</th>\n",
       "      <td>LP001008</td>\n",
       "      <td>Male</td>\n",
       "      <td>No</td>\n",
       "      <td>0</td>\n",
       "      <td>Graduate</td>\n",
       "      <td>No</td>\n",
       "      <td>6000</td>\n",
       "      <td>0.0</td>\n",
       "      <td>141.0</td>\n",
       "      <td>360.0</td>\n",
       "      <td>1.0</td>\n",
       "      <td>Urban</td>\n",
       "      <td>Y</td>\n",
       "    </tr>\n",
       "    <tr>\n",
       "      <th>4</th>\n",
       "      <td>LP001013</td>\n",
       "      <td>Male</td>\n",
       "      <td>Yes</td>\n",
       "      <td>0</td>\n",
       "      <td>Not Graduate</td>\n",
       "      <td>No</td>\n",
       "      <td>2333</td>\n",
       "      <td>1516.0</td>\n",
       "      <td>95.0</td>\n",
       "      <td>360.0</td>\n",
       "      <td>1.0</td>\n",
       "      <td>Urban</td>\n",
       "      <td>Y</td>\n",
       "    </tr>\n",
       "  </tbody>\n",
       "</table>\n",
       "</div>"
      ],
      "text/plain": [
       "    Loan_ID Gender Married Dependents     Education Self_Employed  \\\n",
       "0  LP001003   Male     Yes          1      Graduate            No   \n",
       "1  LP001005   Male     Yes          0      Graduate           Yes   \n",
       "2  LP001006   Male     Yes          0  Not Graduate            No   \n",
       "3  LP001008   Male      No          0      Graduate            No   \n",
       "4  LP001013   Male     Yes          0  Not Graduate            No   \n",
       "\n",
       "   ApplicantIncome  CoapplicantIncome  LoanAmount  Loan_Amount_Term  \\\n",
       "0             4583             1508.0       128.0             360.0   \n",
       "1             3000                0.0        66.0             360.0   \n",
       "2             2583             2358.0       120.0             360.0   \n",
       "3             6000                0.0       141.0             360.0   \n",
       "4             2333             1516.0        95.0             360.0   \n",
       "\n",
       "   Credit_History Property_Area Loan_Status  \n",
       "0             1.0         Rural           N  \n",
       "1             1.0         Urban           Y  \n",
       "2             1.0         Urban           Y  \n",
       "3             1.0         Urban           Y  \n",
       "4             1.0         Urban           Y  "
      ]
     },
     "execution_count": 5,
     "metadata": {},
     "output_type": "execute_result"
    }
   ],
   "source": [
    "dataset = pd.read_csv('Datasets/loan_data 2.csv')\n",
    "dataset.head()"
   ]
  },
  {
   "cell_type": "code",
   "execution_count": 31,
   "metadata": {},
   "outputs": [
    {
     "data": {
      "text/plain": [
       "Loan_ID               0\n",
       "Gender                5\n",
       "Married               0\n",
       "Dependents            8\n",
       "Education             0\n",
       "Self_Employed        21\n",
       "ApplicantIncome       0\n",
       "CoapplicantIncome     0\n",
       "LoanAmount            0\n",
       "Loan_Amount_Term     11\n",
       "Credit_History       30\n",
       "Property_Area         0\n",
       "Loan_Status           0\n",
       "dtype: int64"
      ]
     },
     "execution_count": 31,
     "metadata": {},
     "output_type": "execute_result"
    }
   ],
   "source": [
    "dataset.isnull().sum()"
   ]
  },
  {
   "cell_type": "code",
   "execution_count": 23,
   "metadata": {},
   "outputs": [
    {
     "data": {
      "text/plain": [
       "Loan_ID               object\n",
       "Gender                object\n",
       "Married               object\n",
       "Dependents            object\n",
       "Education             object\n",
       "Self_Employed         object\n",
       "ApplicantIncome        int64\n",
       "CoapplicantIncome    float64\n",
       "LoanAmount           float64\n",
       "Loan_Amount_Term     float64\n",
       "Credit_History       float64\n",
       "Property_Area         object\n",
       "Loan_Status           object\n",
       "dtype: object"
      ]
     },
     "execution_count": 23,
     "metadata": {},
     "output_type": "execute_result"
    }
   ],
   "source": [
    "# Check the datatypes of the columns and convert if necessary \n",
    "\n",
    "dataset.dtypes"
   ]
  },
  {
   "cell_type": "code",
   "execution_count": 26,
   "metadata": {},
   "outputs": [
    {
     "name": "stdout",
     "output_type": "stream",
     "text": [
      "Gender ['Male' 'Female' nan]\n",
      "Married ['Yes' 'No']\n",
      "Dependents ['1' '0' '2' '3+' nan]\n",
      "Education ['Graduate' 'Not Graduate']\n",
      "Self_Employed ['No' 'Yes' nan]\n",
      "Property_Area ['Rural' 'Urban' 'Semiurban']\n",
      "Loan_Status ['N' 'Y']\n"
     ]
    }
   ],
   "source": [
    "# Checking few columns with their unique values to convert them to correct datatypes\n",
    "for i in dataset.drop('Loan_ID', axis =1).select_dtypes(include=['object']).columns.tolist():\n",
    "    print(i, dataset[i].unique())"
   ]
  },
  {
   "cell_type": "markdown",
   "metadata": {},
   "source": [
    "#### Check for relationships of different values of categorical features (more than two classes) with the dependent variable to detect ordinality"
   ]
  },
  {
   "cell_type": "code",
   "execution_count": 11,
   "metadata": {},
   "outputs": [
    {
     "name": "stderr",
     "output_type": "stream",
     "text": [
      "C:\\Users\\subhabrat.biswal\\AppData\\Local\\Temp\\ipykernel_20664\\3851824622.py:7: FutureWarning: \n",
      "\n",
      "Passing `palette` without assigning `hue` is deprecated and will be removed in v0.14.0. Assign the `x` variable to `hue` and set `legend=False` for the same effect.\n",
      "\n",
      "  ax = sns.barplot(x=approval_ratio.index, y='Approval_Ratio', data=approval_ratio, palette='viridis')\n"
     ]
    },
    {
     "data": {
      "image/png": "[encoded data removed]",
      "text/plain": [
       "<Figure size 1000x600 with 1 Axes>"
      ]
     },
     "metadata": {},
     "output_type": "display_data"
    }
   ],
   "source": [
    "# Calculate the approval ratio for each category in 'Dependents'\n",
    "approval_ratio = dataset.pivot_table(index='Dependents', columns='Loan_Status', aggfunc='size', fill_value=0)\n",
    "approval_ratio['Approval_Ratio'] = approval_ratio['Y'] / (approval_ratio['Y'] + approval_ratio['N'])\n",
    "\n",
    "# Plot the approval ratio\n",
    "plt.figure(figsize=(10, 6))\n",
    "ax = sns.barplot(x=approval_ratio.index, y='Approval_Ratio', data=approval_ratio, palette='viridis')\n",
    "\n",
    "ax.bar_label(ax.containers[0], fmt='%.2f')\n",
    "\n",
    "plt.title('Loan Approval Ratio across Different Dependents Categories')\n",
    "plt.xlabel('Number of Dependents')\n",
    "plt.ylabel('Loan Approval Ratio (Yes)')\n",
    "plt.ylim(0, 1)\n",
    "\n",
    "plt.show()\n"
   ]
  },
  {
   "cell_type": "code",
   "execution_count": 12,
   "metadata": {},
   "outputs": [
    {
     "name": "stderr",
     "output_type": "stream",
     "text": [
      "C:\\Users\\subhabrat.biswal\\AppData\\Local\\Temp\\ipykernel_20664\\2704689228.py:7: FutureWarning: \n",
      "\n",
      "Passing `palette` without assigning `hue` is deprecated and will be removed in v0.14.0. Assign the `x` variable to `hue` and set `legend=False` for the same effect.\n",
      "\n",
      "  ax = sns.barplot(x=approval_ratio.index, y='Approval_Ratio', data=approval_ratio, palette='viridis')\n"
     ]
    },
    {
     "data": {
      "image/png": "[encoded data removed]",
      "text/plain": [
       "<Figure size 1000x600 with 1 Axes>"
      ]
     },
     "metadata": {},
     "output_type": "display_data"
    }
   ],
   "source": [
    "# Calculate the approval ratio for each category in 'Property_Area'\n",
    "approval_ratio = dataset.pivot_table(index='Property_Area', columns='Loan_Status', aggfunc='size', fill_value=0)\n",
    "approval_ratio['Approval_Ratio'] = approval_ratio['Y'] / (approval_ratio['Y'] + approval_ratio['N'])\n",
    "\n",
    "# Plot the approval ratio\n",
    "plt.figure(figsize=(10, 6))\n",
    "ax = sns.barplot(x=approval_ratio.index, y='Approval_Ratio', data=approval_ratio, palette='viridis')\n",
    "\n",
    "ax.bar_label(ax.containers[0], fmt='%.2f')\n",
    "\n",
    "plt.title('Loan Approval Ratio across Different Property_Area Categories')\n",
    "plt.xlabel('Property_Area type')\n",
    "plt.ylabel('Loan Approval Ratio (Yes)')\n",
    "plt.ylim(0, 1)\n",
    "\n",
    "plt.show()"
   ]
  },
  {
   "cell_type": "markdown",
   "metadata": {},
   "source": [
    "### preprocessing the data before model training"
   ]
  },
  {
   "cell_type": "markdown",
   "metadata": {},
   "source": [
    "We will impute, encode and scale the columns as required using a preprocessor object"
   ]
  },
  {
   "cell_type": "code",
   "execution_count": 6,
   "metadata": {},
   "outputs": [
    {
     "name": "stdout",
     "output_type": "stream",
     "text": [
      "   ApplicantIncome  CoapplicantIncome  LoanAmount  Loan_Amount_Term  \\\n",
      "0         0.707469           0.098695    0.812575          0.275147   \n",
      "1        -0.408932          -0.546371   -1.376596          0.275147   \n",
      "2        -0.703019           0.462294    0.530102          0.275147   \n",
      "3         1.706799          -0.546371    1.271595          0.275147   \n",
      "4        -0.879330           0.102118   -0.352629          0.275147   \n",
      "\n",
      "   Credit_History  Dependents_0  Dependents_1  Dependents_2  Dependents_3+  \\\n",
      "0        0.419435           0.0           1.0           0.0            0.0   \n",
      "1        0.419435           1.0           0.0           0.0            0.0   \n",
      "2        0.419435           1.0           0.0           0.0            0.0   \n",
      "3        0.419435           1.0           0.0           0.0            0.0   \n",
      "4        0.419435           1.0           0.0           0.0            0.0   \n",
      "\n",
      "   Property_Area_Rural  Property_Area_Semiurban  Property_Area_Urban  Gender  \\\n",
      "0                  1.0                      0.0                  0.0       1   \n",
      "1                  0.0                      0.0                  1.0       1   \n",
      "2                  0.0                      0.0                  1.0       1   \n",
      "3                  0.0                      0.0                  1.0       1   \n",
      "4                  0.0                      0.0                  1.0       1   \n",
      "\n",
      "   Married  Education  Self_Employed  Loan_Status  \n",
      "0        1          0              0            0  \n",
      "1        1          0              1            1  \n",
      "2        1          1              0            1  \n",
      "3        0          0              0            1  \n",
      "4        1          1              0            1  \n"
     ]
    }
   ],
   "source": [
    "import numpy as np\n",
    "import pandas as pd\n",
    "from sklearn.compose import ColumnTransformer\n",
    "from sklearn.preprocessing import StandardScaler, OneHotEncoder, LabelEncoder\n",
    "from sklearn.impute import SimpleImputer\n",
    "from sklearn.pipeline import Pipeline\n",
    "\n",
    "def data_preprocessing(df):\n",
    "    # Drop the 'Loan_ID' column\n",
    "    df.drop('Loan_ID', axis=1, inplace=True)\n",
    "    \n",
    "    # Separate categorical and numerical columns\n",
    "    categorical_cols = df.select_dtypes(include=['object']).columns.tolist()\n",
    "    numerical_cols = df.select_dtypes(include=['number']).columns.tolist()\n",
    "    \n",
    "    # Columns for one-hot encoding\n",
    "    one_hot_cols = ['Dependents', 'Property_Area']\n",
    "    label_cols = ['Gender', 'Married', 'Education', 'Self_Employed']\n",
    "    target_col = 'Loan_Status'\n",
    "    \n",
    "    # Handle numerical and one-hot encoded columns \n",
    "    preprocessor = ColumnTransformer(\n",
    "        transformers=[\n",
    "            ('num', Pipeline([\n",
    "                ('imputer', SimpleImputer(strategy='median')),  \n",
    "                ('scaler', StandardScaler())  \n",
    "            ]), numerical_cols),\n",
    "            \n",
    "            ('one_hot', Pipeline([\n",
    "                ('imputer', SimpleImputer(strategy='most_frequent')),\n",
    "                ('encoder', OneHotEncoder(handle_unknown='ignore')) \n",
    "            ]), one_hot_cols)\n",
    "        ],\n",
    "        remainder='drop'  # Drop columns that are not specified\n",
    "    )\n",
    "\n",
    "    # Apply transformations\n",
    "    transformed_data = preprocessor.fit_transform(df)\n",
    "    \n",
    "    # Get OHE feature names after transformation\n",
    "    one_hot_feature_names = list(preprocessor.named_transformers_['one_hot'].named_steps['encoder'].get_feature_names_out(one_hot_cols))\n",
    "    feature_names = numerical_cols + one_hot_feature_names\n",
    "    \n",
    "    # Create a DataFrame with the transformed data\n",
    "    transformed_data_df = pd.DataFrame(transformed_data, columns=feature_names)\n",
    "    \n",
    "    # Label encode the categorical columns outside of the pipeline\n",
    "    label_encoder = LabelEncoder()\n",
    "    for col in label_cols:\n",
    "        df[col] = label_encoder.fit_transform(df[col])\n",
    "    \n",
    "    # Encode the target variable 'Loan_Status' separately\n",
    "    df[target_col] = label_encoder.fit_transform(df[target_col])\n",
    "    \n",
    "    # Combine the processed numerical, one-hot encoded, and label-encoded columns\n",
    "    final_data = pd.concat([transformed_data_df, df[label_cols], df[target_col]], axis=1)\n",
    "    \n",
    "    # Return the final DataFrame with processed data\n",
    "    return final_data\n",
    "\n",
    "# Load the dataset\n",
    "df = pd.read_csv('Datasets/loan_data 2.csv')\n",
    "\n",
    "# Preprocess the data\n",
    "processed_data = data_preprocessing(df)\n",
    "\n",
    "# Output the processed data\n",
    "print(processed_data.head())\n",
    "processed_data.to_csv('processed-file.csv', index=False)\n"
   ]
  },
  {
   "cell_type": "markdown",
   "metadata": {},
   "source": [
    "#### Train the models and choose the model with less FP \n",
    "\n",
    "Approach : We will train two classifiers, one an ANN model and another is a stacking classifier using all the classification models as base estimators and SVC as a final estimator"
   ]
  },
  {
   "cell_type": "code",
   "execution_count": 3,
   "metadata": {},
   "outputs": [],
   "source": [
    "import pandas as pd\n",
    "from sklearn.model_selection import train_test_split\n",
    "from sklearn.ensemble import StackingClassifier, RandomForestClassifier\n",
    "from sklearn.linear_model import LogisticRegression\n",
    "from sklearn.svm import SVC\n",
    "from sklearn.naive_bayes import GaussianNB\n",
    "from xgboost import XGBClassifier\n",
    "from sklearn.metrics import accuracy_score, confusion_matrix, classification_report, precision_score, recall_score, f1_score\n",
    "from tensorflow import keras\n",
    "from keras import layers\n",
    "import joblib\n"
   ]
  },
  {
   "cell_type": "code",
   "execution_count": 30,
   "metadata": {},
   "outputs": [],
   "source": [
    "# Load the transformed dataset for spliiting\n",
    "def load_data(path, target_col):\n",
    "    df = pd.read_csv(path)\n",
    "    X = df.drop(columns=[target_col])\n",
    "    y = df[target_col]\n",
    "    return train_test_split(X, y, test_size=0.2, random_state=42, stratify=y) # Stratify will help in class imbalance\n",
    "\n"
   ]
  },
  {
   "cell_type": "code",
   "execution_count": 45,
   "metadata": {},
   "outputs": [],
   "source": [
    "# ANN model creation\n",
    "def ann_model():\n",
    "    model = keras.Sequential()\n",
    "    model.add(layers.Dense(64, activation='relu'))\n",
    "    model.add(layers.Dense(32, activation='relu'))\n",
    "    model.add(layers.Dense(32, activation='relu'))\n",
    "    model.add(layers.Dense(1, activation='sigmoid'))  # For binary classification\n",
    "    model.compile(optimizer='adam', loss='binary_crossentropy', metrics=['accuracy'])\n",
    "    return model"
   ]
  },
  {
   "cell_type": "code",
   "execution_count": 46,
   "metadata": {},
   "outputs": [],
   "source": [
    "#  Stacking classifier creation\n",
    "def stacking_classifier():\n",
    "    model = StackingClassifier(\n",
    "        estimators=[\n",
    "            ('log_reg', LogisticRegression()),\n",
    "            ('naive_bayes', GaussianNB()),\n",
    "            ('kernel_svm', SVC(kernel='rbf', probability=True)),\n",
    "            ('random_forest', RandomForestClassifier()),\n",
    "            ('xgboost', XGBClassifier())\n",
    "        ],\n",
    "        final_estimator=SVC(probability=True),\n",
    "        cv=5\n",
    "    )\n",
    "    return model\n"
   ]
  },
  {
   "cell_type": "code",
   "execution_count": 24,
   "metadata": {},
   "outputs": [],
   "source": [
    "# Model training\n",
    "def train_models(ann_model, stacking_classifier_model, X_train, y_train):\n",
    "    ann_model.fit(X_train, y_train, epochs=30, verbose=0)\n",
    "    stacking_classifier_model.fit(X_train, y_train)\n",
    "    return ann_model, stacking_classifier_model"
   ]
  },
  {
   "cell_type": "code",
   "execution_count": 48,
   "metadata": {},
   "outputs": [],
   "source": [
    "# Model evaluation\n",
    "def evaluate_models(trained_ann_model, trained_stacking_model, X_train, y_train, X_test, y_test):\n",
    "    # Evaluate the ANN model on training data\n",
    "    y_train_pred_ann = (trained_ann_model.predict(X_train) > 0.5).astype(\"int32\")\n",
    "    ann_train_accuracy = accuracy_score(y_train, y_train_pred_ann)\n",
    "    ann_train_conf_matrix = confusion_matrix(y_train, y_train_pred_ann)\n",
    "    ann_train_false_positives = ann_train_conf_matrix[0][1]\n",
    "    ann_train_precision = precision_score(y_train, y_train_pred_ann)\n",
    "    ann_train_recall = recall_score(y_train, y_train_pred_ann)\n",
    "    ann_train_f1 = f1_score(y_train, y_train_pred_ann)\n",
    "\n",
    "    # Evaluate the ANN model on testing data\n",
    "    y_test_pred_ann = (trained_ann_model.predict(X_test) > 0.5).astype(\"int32\")\n",
    "    ann_test_accuracy = accuracy_score(y_test, y_test_pred_ann)\n",
    "    ann_test_conf_matrix = confusion_matrix(y_test, y_test_pred_ann)\n",
    "    ann_test_false_positives = ann_test_conf_matrix[0][1]\n",
    "    ann_test_precision = precision_score(y_test, y_test_pred_ann)\n",
    "    ann_test_recall = recall_score(y_test, y_test_pred_ann)\n",
    "    ann_test_f1 = f1_score(y_test, y_test_pred_ann)\n",
    "\n",
    "    # Evaluate the stacking classifier on training data\n",
    "    y_train_pred_stacking = trained_stacking_model.predict(X_train)\n",
    "    stacking_train_accuracy = accuracy_score(y_train, y_train_pred_stacking)\n",
    "    stacking_train_conf_matrix = confusion_matrix(y_train, y_train_pred_stacking)\n",
    "    stacking_train_false_positives = stacking_train_conf_matrix[0][1]\n",
    "    stacking_train_precision = precision_score(y_train, y_train_pred_stacking)\n",
    "    stacking_train_recall = recall_score(y_train, y_train_pred_stacking)\n",
    "    stacking_train_f1 = f1_score(y_train, y_train_pred_stacking)\n",
    "\n",
    "    # Evaluate the stacking classifier on testing data\n",
    "    y_test_pred_stacking = trained_stacking_model.predict(X_test)\n",
    "    stacking_test_accuracy = accuracy_score(y_test, y_test_pred_stacking)\n",
    "    stacking_test_conf_matrix = confusion_matrix(y_test, y_test_pred_stacking)\n",
    "    stacking_test_false_positives = stacking_test_conf_matrix[0][1]\n",
    "    stacking_test_precision = precision_score(y_test, y_test_pred_stacking)\n",
    "    stacking_test_recall = recall_score(y_test, y_test_pred_stacking)\n",
    "    stacking_test_f1 = f1_score(y_test, y_test_pred_stacking)\n",
    "\n",
    "    # Prepare evaluation results\n",
    "    evaluation_results = (\n",
    "\n",
    "        \"ANN Model Training Evaluation:\\n\"\n",
    "        f\"Accuracy: {ann_train_accuracy:.4f}\\n\"\n",
    "        f\"False Positives: {ann_train_false_positives}\\n\"\n",
    "        f\"Precision: {ann_train_precision:.4f}\\n\"\n",
    "        f\"Recall: {ann_train_recall:.4f}\\n\"\n",
    "        f\"F1 Score: {ann_train_f1:.4f}\\n\\n\"\n",
    "\n",
    "        \"ANN Model Testing Evaluation:\\n\"\n",
    "        f\"Accuracy: {ann_test_accuracy:.4f}\\n\"\n",
    "        f\"False Positives: {ann_test_false_positives}\\n\"\n",
    "        f\"Precision: {ann_test_precision:.4f}\\n\"\n",
    "        f\"Recall: {ann_test_recall:.4f}\\n\"\n",
    "        f\"F1 Score: {ann_test_f1:.4f}\\n\\n\"\n",
    "\n",
    "\n",
    "        \"Stacking Model Training Evaluation:\\n\"\n",
    "        f\"Accuracy: {stacking_train_accuracy:.4f}\\n\"\n",
    "        f\"False Positives: {stacking_train_false_positives}\\n\"\n",
    "        f\"Precision: {stacking_train_precision:.4f}\\n\"\n",
    "        f\"Recall: {stacking_train_recall:.4f}\\n\"\n",
    "        f\"F1 Score: {stacking_train_f1:.4f}\\n\\n\"\n",
    "\n",
    "        \"Stacking Model Testing Evaluation:\\n\"\n",
    "        f\"Accuracy: {stacking_test_accuracy:.4f}\\n\"\n",
    "        f\"False Positives: {stacking_test_false_positives}\\n\"\n",
    "        f\"Precision: {stacking_test_precision:.4f}\\n\"\n",
    "        f\"Recall: {stacking_test_recall:.4f}\\n\"\n",
    "        f\"F1 Score: {stacking_test_f1:.4f}\\n\"\n",
    "\n",
    "    )\n",
    "\n",
    "    # Save evaluation metrics to a text file\n",
    "    with open(\"Model Evaluation.txt\", \"w\") as f:\n",
    "        f.write(evaluation_results)\n",
    "\n",
    "    # Decide the best model based on fewer false positives on the test set\n",
    "    if stacking_test_false_positives < ann_test_false_positives:\n",
    "        best_model = trained_stacking_model\n",
    "        print(\"Stacking model is selected as the best model.\")\n",
    "    elif stacking_test_false_positives > ann_test_false_positives:\n",
    "        best_model = trained_ann_model\n",
    "        print(\"ANN model is selected as the best model.\")\n",
    "    else:\n",
    "        # If both have the same number of false positives, choose the one with greater accuracy\n",
    "        if stacking_test_accuracy > ann_test_accuracy:\n",
    "            best_model = trained_stacking_model\n",
    "            print(\"Both models have the same false positives. Stacking model is selected due to higher accuracy.\")\n",
    "        else:\n",
    "            best_model = trained_ann_model\n",
    "            print(\"Both models have the same false positives. ANN model is selected due to higher accuracy.\")\n",
    "\n",
    "    return best_model"
   ]
  },
  {
   "cell_type": "code",
   "execution_count": 47,
   "metadata": {},
   "outputs": [
    {
     "name": "stdout",
     "output_type": "stream",
     "text": [
      "\u001b[1m10/10\u001b[0m \u001b[32m━━━━━━━━━━━━━━━━━━━━\u001b[0m\u001b[37m\u001b[0m \u001b[1m0s\u001b[0m 4ms/step \n",
      "\u001b[1m3/3\u001b[0m \u001b[32m━━━━━━━━━━━━━━━━━━━━\u001b[0m\u001b[37m\u001b[0m \u001b[1m0s\u001b[0m 0s/step  \n",
      "Both models have the same false positives. Stacking model is selected due to higher accuracy.\n"
     ]
    }
   ],
   "source": [
    "## Test all the functions till here \n",
    "\n",
    "X_train, X_test, y_train, y_test = load_data('processed-file.csv', 'Loan_Status')\n",
    "#print(X_train, X_test, y_train, y_test)\n",
    "\n",
    "ann_classifier = ann_model()\n",
    "stacked_classifier  = stacking_classifier()\n",
    "\n",
    "trained_ann, trained_stack = train_models(ann_classifier, stacked_classifier, X_train, y_train)\n",
    "\n",
    "final_predictor = evaluate_models(trained_ann, trained_stack, X_train, y_train, X_test, y_test)"
   ]
  },
  {
   "cell_type": "code",
   "execution_count": null,
   "metadata": {},
   "outputs": [],
   "source": [
    "def final_loan_predictor():\n",
    "    "
   ]
  }
 ],
 "metadata": {
  "kernelspec": {
   "display_name": ".venv",
   "language": "python",
   "name": "python3"
  },
  "language_info": {
   "codemirror_mode": {
    "name": "ipython",
    "version": 3
   },
   "file_extension": ".py",
   "mimetype": "text/x-python",
   "name": "python",
   "nbconvert_exporter": "python",
   "pygments_lexer": "ipython3",
   "version": "3.10.11"
  }
 },
 "nbformat": 4,
 "nbformat_minor": 2
}
